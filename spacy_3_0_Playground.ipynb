{
  "nbformat": 4,
  "nbformat_minor": 0,
  "metadata": {
    "colab": {
      "name": "spacy 3.0 Playground.ipynb",
      "provenance": [],
      "authorship_tag": "ABX9TyOoAVNiU5+UFxuP8PYfNRq2",
      "include_colab_link": true
    },
    "kernelspec": {
      "name": "python3",
      "display_name": "Python 3"
    },
    "language_info": {
      "name": "python"
    }
  },
  "cells": [
    {
      "cell_type": "markdown",
      "metadata": {
        "id": "view-in-github",
        "colab_type": "text"
      },
      "source": [
        "<a href=\"https://colab.research.google.com/github/mgiardinelli/spacy-3.0-playground/blob/main/spacy_3_0_Playground.ipynb\" target=\"_parent\"><img src=\"https://colab.research.google.com/assets/colab-badge.svg\" alt=\"Open In Colab\"/></a>"
      ]
    },
    {
      "cell_type": "markdown",
      "metadata": {
        "id": "hlQDaoecWnPM"
      },
      "source": [
        "Explore and better understand spaCy (3.0)\n"
      ]
    },
    {
      "cell_type": "code",
      "metadata": {
        "colab": {
          "base_uri": "https://localhost:8080/"
        },
        "id": "JYHYqe0nWirq",
        "outputId": "e5d0cacd-288b-443f-d444-5d9904f726ab"
      },
      "source": [
        "# Install dependencies\n",
        "!pip install spacy\n",
        "!pip install pandas"
      ],
      "execution_count": 2,
      "outputs": [
        {
          "output_type": "stream",
          "text": [
            "Requirement already satisfied: spacy in /usr/local/lib/python3.7/dist-packages (2.2.4)\n",
            "Requirement already satisfied: cymem<2.1.0,>=2.0.2 in /usr/local/lib/python3.7/dist-packages (from spacy) (2.0.5)\n",
            "Requirement already satisfied: thinc==7.4.0 in /usr/local/lib/python3.7/dist-packages (from spacy) (7.4.0)\n",
            "Requirement already satisfied: preshed<3.1.0,>=3.0.2 in /usr/local/lib/python3.7/dist-packages (from spacy) (3.0.5)\n",
            "Requirement already satisfied: murmurhash<1.1.0,>=0.28.0 in /usr/local/lib/python3.7/dist-packages (from spacy) (1.0.5)\n",
            "Requirement already satisfied: setuptools in /usr/local/lib/python3.7/dist-packages (from spacy) (57.2.0)\n",
            "Requirement already satisfied: wasabi<1.1.0,>=0.4.0 in /usr/local/lib/python3.7/dist-packages (from spacy) (0.8.2)\n",
            "Requirement already satisfied: blis<0.5.0,>=0.4.0 in /usr/local/lib/python3.7/dist-packages (from spacy) (0.4.1)\n",
            "Requirement already satisfied: requests<3.0.0,>=2.13.0 in /usr/local/lib/python3.7/dist-packages (from spacy) (2.23.0)\n",
            "Requirement already satisfied: numpy>=1.15.0 in /usr/local/lib/python3.7/dist-packages (from spacy) (1.19.5)\n",
            "Requirement already satisfied: tqdm<5.0.0,>=4.38.0 in /usr/local/lib/python3.7/dist-packages (from spacy) (4.41.1)\n",
            "Requirement already satisfied: plac<1.2.0,>=0.9.6 in /usr/local/lib/python3.7/dist-packages (from spacy) (1.1.3)\n",
            "Requirement already satisfied: srsly<1.1.0,>=1.0.2 in /usr/local/lib/python3.7/dist-packages (from spacy) (1.0.5)\n",
            "Requirement already satisfied: catalogue<1.1.0,>=0.0.7 in /usr/local/lib/python3.7/dist-packages (from spacy) (1.0.0)\n",
            "Requirement already satisfied: importlib-metadata>=0.20 in /usr/local/lib/python3.7/dist-packages (from catalogue<1.1.0,>=0.0.7->spacy) (4.6.1)\n",
            "Requirement already satisfied: zipp>=0.5 in /usr/local/lib/python3.7/dist-packages (from importlib-metadata>=0.20->catalogue<1.1.0,>=0.0.7->spacy) (3.5.0)\n",
            "Requirement already satisfied: typing-extensions>=3.6.4 in /usr/local/lib/python3.7/dist-packages (from importlib-metadata>=0.20->catalogue<1.1.0,>=0.0.7->spacy) (3.7.4.3)\n",
            "Requirement already satisfied: idna<3,>=2.5 in /usr/local/lib/python3.7/dist-packages (from requests<3.0.0,>=2.13.0->spacy) (2.10)\n",
            "Requirement already satisfied: urllib3!=1.25.0,!=1.25.1,<1.26,>=1.21.1 in /usr/local/lib/python3.7/dist-packages (from requests<3.0.0,>=2.13.0->spacy) (1.24.3)\n",
            "Requirement already satisfied: chardet<4,>=3.0.2 in /usr/local/lib/python3.7/dist-packages (from requests<3.0.0,>=2.13.0->spacy) (3.0.4)\n",
            "Requirement already satisfied: certifi>=2017.4.17 in /usr/local/lib/python3.7/dist-packages (from requests<3.0.0,>=2.13.0->spacy) (2021.5.30)\n",
            "Requirement already satisfied: pandas in /usr/local/lib/python3.7/dist-packages (1.1.5)\n",
            "Requirement already satisfied: pytz>=2017.2 in /usr/local/lib/python3.7/dist-packages (from pandas) (2018.9)\n",
            "Requirement already satisfied: numpy>=1.15.4 in /usr/local/lib/python3.7/dist-packages (from pandas) (1.19.5)\n",
            "Requirement already satisfied: python-dateutil>=2.7.3 in /usr/local/lib/python3.7/dist-packages (from pandas) (2.8.1)\n",
            "Requirement already satisfied: six>=1.5 in /usr/local/lib/python3.7/dist-packages (from python-dateutil>=2.7.3->pandas) (1.15.0)\n"
          ],
          "name": "stdout"
        }
      ]
    },
    {
      "cell_type": "code",
      "metadata": {
        "colab": {
          "base_uri": "https://localhost:8080/"
        },
        "id": "rdEDGx7-YsiD",
        "outputId": "6891601a-455c-46f0-8abe-984fd9a8f2d0"
      },
      "source": [
        "# Download english model\n",
        "# Other models - https://spacy.io/models/en\n",
        "!python -m spacy download en_core_web_sm"
      ],
      "execution_count": 5,
      "outputs": [
        {
          "output_type": "stream",
          "text": [
            "Collecting en_core_web_sm==2.2.5\n",
            "  Downloading https://github.com/explosion/spacy-models/releases/download/en_core_web_sm-2.2.5/en_core_web_sm-2.2.5.tar.gz (12.0 MB)\n",
            "\u001b[K     |████████████████████████████████| 12.0 MB 1.5 MB/s \n",
            "\u001b[?25hRequirement already satisfied: spacy>=2.2.2 in /usr/local/lib/python3.7/dist-packages (from en_core_web_sm==2.2.5) (2.2.4)\n",
            "Requirement already satisfied: thinc==7.4.0 in /usr/local/lib/python3.7/dist-packages (from spacy>=2.2.2->en_core_web_sm==2.2.5) (7.4.0)\n",
            "Requirement already satisfied: srsly<1.1.0,>=1.0.2 in /usr/local/lib/python3.7/dist-packages (from spacy>=2.2.2->en_core_web_sm==2.2.5) (1.0.5)\n",
            "Requirement already satisfied: tqdm<5.0.0,>=4.38.0 in /usr/local/lib/python3.7/dist-packages (from spacy>=2.2.2->en_core_web_sm==2.2.5) (4.41.1)\n",
            "Requirement already satisfied: preshed<3.1.0,>=3.0.2 in /usr/local/lib/python3.7/dist-packages (from spacy>=2.2.2->en_core_web_sm==2.2.5) (3.0.5)\n",
            "Requirement already satisfied: plac<1.2.0,>=0.9.6 in /usr/local/lib/python3.7/dist-packages (from spacy>=2.2.2->en_core_web_sm==2.2.5) (1.1.3)\n",
            "Requirement already satisfied: murmurhash<1.1.0,>=0.28.0 in /usr/local/lib/python3.7/dist-packages (from spacy>=2.2.2->en_core_web_sm==2.2.5) (1.0.5)\n",
            "Requirement already satisfied: blis<0.5.0,>=0.4.0 in /usr/local/lib/python3.7/dist-packages (from spacy>=2.2.2->en_core_web_sm==2.2.5) (0.4.1)\n",
            "Requirement already satisfied: cymem<2.1.0,>=2.0.2 in /usr/local/lib/python3.7/dist-packages (from spacy>=2.2.2->en_core_web_sm==2.2.5) (2.0.5)\n",
            "Requirement already satisfied: catalogue<1.1.0,>=0.0.7 in /usr/local/lib/python3.7/dist-packages (from spacy>=2.2.2->en_core_web_sm==2.2.5) (1.0.0)\n",
            "Requirement already satisfied: requests<3.0.0,>=2.13.0 in /usr/local/lib/python3.7/dist-packages (from spacy>=2.2.2->en_core_web_sm==2.2.5) (2.23.0)\n",
            "Requirement already satisfied: numpy>=1.15.0 in /usr/local/lib/python3.7/dist-packages (from spacy>=2.2.2->en_core_web_sm==2.2.5) (1.19.5)\n",
            "Requirement already satisfied: setuptools in /usr/local/lib/python3.7/dist-packages (from spacy>=2.2.2->en_core_web_sm==2.2.5) (57.2.0)\n",
            "Requirement already satisfied: wasabi<1.1.0,>=0.4.0 in /usr/local/lib/python3.7/dist-packages (from spacy>=2.2.2->en_core_web_sm==2.2.5) (0.8.2)\n",
            "Requirement already satisfied: importlib-metadata>=0.20 in /usr/local/lib/python3.7/dist-packages (from catalogue<1.1.0,>=0.0.7->spacy>=2.2.2->en_core_web_sm==2.2.5) (4.6.1)\n",
            "Requirement already satisfied: zipp>=0.5 in /usr/local/lib/python3.7/dist-packages (from importlib-metadata>=0.20->catalogue<1.1.0,>=0.0.7->spacy>=2.2.2->en_core_web_sm==2.2.5) (3.5.0)\n",
            "Requirement already satisfied: typing-extensions>=3.6.4 in /usr/local/lib/python3.7/dist-packages (from importlib-metadata>=0.20->catalogue<1.1.0,>=0.0.7->spacy>=2.2.2->en_core_web_sm==2.2.5) (3.7.4.3)\n",
            "Requirement already satisfied: certifi>=2017.4.17 in /usr/local/lib/python3.7/dist-packages (from requests<3.0.0,>=2.13.0->spacy>=2.2.2->en_core_web_sm==2.2.5) (2021.5.30)\n",
            "Requirement already satisfied: idna<3,>=2.5 in /usr/local/lib/python3.7/dist-packages (from requests<3.0.0,>=2.13.0->spacy>=2.2.2->en_core_web_sm==2.2.5) (2.10)\n",
            "Requirement already satisfied: chardet<4,>=3.0.2 in /usr/local/lib/python3.7/dist-packages (from requests<3.0.0,>=2.13.0->spacy>=2.2.2->en_core_web_sm==2.2.5) (3.0.4)\n",
            "Requirement already satisfied: urllib3!=1.25.0,!=1.25.1,<1.26,>=1.21.1 in /usr/local/lib/python3.7/dist-packages (from requests<3.0.0,>=2.13.0->spacy>=2.2.2->en_core_web_sm==2.2.5) (1.24.3)\n",
            "\u001b[38;5;2m✔ Download and installation successful\u001b[0m\n",
            "You can now load the model via spacy.load('en_core_web_sm')\n"
          ],
          "name": "stdout"
        }
      ]
    },
    {
      "cell_type": "markdown",
      "metadata": {
        "id": "ShbaW9sfYlSt"
      },
      "source": [
        "Spacy NER (Named Entity Recognition) - extract entities from text"
      ]
    },
    {
      "cell_type": "code",
      "metadata": {
        "id": "nb_CkIVkWyRF"
      },
      "source": [
        "sample_text = '''Family vacations are great. It allows you to spend time away from work, relax, and have fun. We really like playing pickleball, tennis, riding bikes, playing games, and just hanging\n",
        "out with each other. We recently went to Suncadia resort, which is by Snoqualmie Pass and the Cascade Mountains.  It was so nice being in the trees, enjoying the cooler temperatures, and slower pace life. It was really nice sitting out at the firepit,\n",
        "out by the big boulders. We saw a deer, lots of different birds, and of course some funny squirrles.'''"
      ],
      "execution_count": 27,
      "outputs": []
    },
    {
      "cell_type": "code",
      "metadata": {
        "colab": {
          "base_uri": "https://localhost:8080/"
        },
        "id": "qJNf0JwaYZql",
        "outputId": "d33555f8-a434-4510-ef6b-7eaba2cc9b6b"
      },
      "source": [
        "#NER\n",
        "import spacy\n",
        "\n",
        "nlp = spacy.load(\"en_core_web_sm\")\n",
        "doc = nlp(sample_text)\n",
        "\n",
        "for ent in doc.ents:\n",
        "    print(ent.text, ent.start_char, ent.end_char, ent.label_)"
      ],
      "execution_count": 28,
      "outputs": [
        {
          "output_type": "stream",
          "text": [
            "Suncadia 223 231 GPE\n",
            "Snoqualmie Pass 252 267 ORG\n",
            "the Cascade Mountains 272 293 LOC\n"
          ],
          "name": "stdout"
        }
      ]
    },
    {
      "cell_type": "code",
      "metadata": {
        "colab": {
          "base_uri": "https://localhost:8080/"
        },
        "id": "92E5ape0cMe-",
        "outputId": "9373770e-207e-42ba-f3fa-fdb5e6a90532"
      },
      "source": [
        "#http://ner.pythonhumanities.com/04_01_spaCy_Entity_Ruler.html\n",
        "# NER Annotations - https://spacy.io/api/annotation#named-entities\n",
        "#Import the requisite library\n",
        "import spacy\n",
        "\n",
        "#Build upon the spaCy Small Model\n",
        "nlp = spacy.load(\"en_core_web_sm\")\n",
        "\n",
        "#import the spaCy EntityRuler class\n",
        "from spacy.pipeline import EntityRuler\n",
        "\n",
        "#create the ruler with the ability to overwrite entities\n",
        "ruler = EntityRuler(nlp, overwrite_ents=True)\n",
        "\n",
        "#List of Entities and Patterns\n",
        "patterns = [{\"label\": \"SPORTS\", \"pattern\": [{\"LOWER\": \"tennis\"}]},\n",
        "            {\"label\": \"SPORTS\", \"pattern\": [{\"LOWER\": \"pickelball\"}]},\n",
        "            {\"label\": \"SPORTS\", \"pattern\": [{\"LOWER\": \"riding\"}, {\"LOWER\": \"bikes\"}]},\n",
        "            {\"label\": \"LOC\", \"pattern\": [{\"LOWER\": \"snoqualmie\"}, {\"LOWER\": \"pass\"}]},\n",
        "            {\"label\": \"LOC\", \"pattern\": [{\"LOWER\": \"by\"}, {\"LOWER\": \"the\"}, {\"LOWER\": \"big\"}, {\"LOWER\": \"boulders\"}]}]\n",
        "\n",
        "#add patterns to ruler\n",
        "ruler.add_patterns(patterns)\n",
        "\n",
        "\n",
        "#add the pipe\n",
        "nlp.add_pipe(ruler)\n",
        "\n",
        "#create the doc\n",
        "doc = nlp(sample_text)\n",
        "\n",
        "#extract entities\n",
        "for ent in doc.ents:\n",
        "    print (ent.text, ent.label_)\n"
      ],
      "execution_count": 29,
      "outputs": [
        {
          "output_type": "stream",
          "text": [
            "tennis SPORTS\n",
            "riding bikes SPORTS\n",
            "Suncadia GPE\n",
            "Snoqualmie Pass LOC\n",
            "the Cascade Mountains LOC\n",
            "by the big boulders LOC\n"
          ],
          "name": "stdout"
        }
      ]
    },
    {
      "cell_type": "code",
      "metadata": {
        "colab": {
          "base_uri": "https://localhost:8080/"
        },
        "id": "jGG-H-OfZBFC",
        "outputId": "1928065c-7ac2-4431-f146-f9a5615c3418"
      },
      "source": [
        "# POS\n",
        "import spacy\n",
        "\n",
        "nlp = spacy.load(\"en_core_web_sm\")\n",
        "\n",
        "for token in doc:\n",
        "    print(token.text, token.lemma_, token.pos_, token.tag_, token.dep_,\n",
        "            token.shape_, token.is_alpha, token.is_stop)"
      ],
      "execution_count": 13,
      "outputs": [
        {
          "output_type": "stream",
          "text": [
            "Family family NOUN NN compound Xxxxx True False\n",
            "vacations vacation NOUN NNS nsubj xxxx True False\n",
            "are be AUX VBP ROOT xxx True True\n",
            "great great ADJ JJ acomp xxxx True False\n",
            ". . PUNCT . punct . False False\n",
            "It -PRON- PRON PRP nsubj Xx True True\n",
            "allows allow VERB VBZ ROOT xxxx True False\n",
            "you -PRON- PRON PRP nsubj xxx True True\n",
            "to to PART TO aux xx True True\n",
            "spend spend VERB VB ccomp xxxx True False\n",
            "time time NOUN NN dobj xxxx True False\n",
            "away away ADV RB advmod xxxx True False\n",
            "from from ADP IN prep xxxx True True\n",
            "work work NOUN NN pobj xxxx True False\n",
            ", , PUNCT , punct , False False\n",
            "relax relax VERB VB conj xxxx True False\n",
            ", , PUNCT , punct , False False\n",
            "and and CCONJ CC cc xxx True True\n",
            "have have AUX VBP conj xxxx True True\n",
            "fun fun NOUN NN dobj xxx True False\n",
            ". . PUNCT . punct . False False\n",
            "We -PRON- PRON PRP nsubj Xx True True\n",
            "really really ADV RB advmod xxxx True True\n",
            "like like VERB VBP ROOT xxxx True False\n",
            "playing play VERB VBG xcomp xxxx True False\n",
            "pickleball pickleball NOUN NN dobj xxxx True False\n",
            ", , PUNCT , punct , False False\n",
            "tennis tennis NOUN NN conj xxxx True False\n",
            ", , PUNCT , punct , False False\n",
            "riding ride VERB VBG compound xxxx True False\n",
            "bikes bike NOUN NNS conj xxxx True False\n",
            ", , PUNCT , punct , False False\n",
            "playing playing NOUN NN compound xxxx True False\n",
            "games game NOUN NNS conj xxxx True False\n",
            ", , PUNCT , punct , False False\n",
            "and and CCONJ CC cc xxx True True\n",
            "just just ADV RB advmod xxxx True True\n",
            "hanging hang VERB VBG conj xxxx True False\n",
            "\n",
            " \n",
            " SPACE _SP  \n",
            " False False\n",
            "out out ADP RP prep xxx True True\n",
            "with with ADP IN prep xxxx True True\n",
            "each each DET DT det xxxx True True\n",
            "other other ADJ JJ pobj xxxx True True\n",
            ". . PUNCT . punct . False False\n",
            "We -PRON- PRON PRP nsubj Xx True True\n",
            "recently recently ADV RB advmod xxxx True False\n",
            "went go VERB VBD ROOT xxxx True False\n",
            "to to ADP IN prep xx True True\n",
            "Suncadia Suncadia PROPN NNP compound Xxxxx True False\n",
            "resort resort NOUN NN pobj xxxx True False\n",
            ". . PUNCT . punct . False False\n",
            "It -PRON- PRON PRP nsubj Xx True True\n",
            "was be AUX VBD ROOT xxx True True\n",
            "so so ADV RB advmod xx True True\n",
            "nice nice ADJ JJ amod xxxx True False\n",
            "being be AUX VBG attr xxxx True True\n",
            "in in ADP IN prep xx True True\n",
            "the the DET DT det xxx True True\n",
            "trees tree NOUN NNS pobj xxxx True False\n",
            ", , PUNCT , punct , False False\n",
            "enjoying enjoy VERB VBG advcl xxxx True False\n",
            "the the DET DT det xxx True True\n",
            "cooler cool ADJ JJR compound xxxx True False\n",
            "temperatures temperature NOUN NNS dobj xxxx True False\n",
            ", , PUNCT , punct , False False\n",
            "and and CCONJ CC cc xxx True True\n",
            "slower slow ADJ JJR amod xxxx True False\n",
            "pace pace NOUN NN compound xxxx True False\n",
            "life life NOUN NN conj xxxx True False\n",
            ". . PUNCT . punct . False False\n",
            "It -PRON- PRON PRP nsubj Xx True True\n",
            "was be AUX VBD ROOT xxx True True\n",
            "really really ADV RB advmod xxxx True True\n",
            "nice nice ADJ JJ acomp xxxx True False\n",
            "sitting sit VERB VBG advcl xxxx True False\n",
            "out out ADP RP prt xxx True True\n",
            "at at ADP IN prep xx True True\n",
            "the the DET DT det xxx True True\n",
            "firepit firepit NOUN NN pobj xxxx True False\n",
            ", , PUNCT , punct , False False\n",
            "\n",
            " \n",
            " SPACE _SP  \n",
            " False False\n",
            "out out ADP RP prt xxx True True\n",
            "by by ADP IN prep xx True True\n",
            "the the DET DT det xxx True True\n",
            "big big ADJ JJ amod xxx True False\n",
            "boulders boulder NOUN NNS pobj xxxx True False\n",
            ". . PUNCT . punct . False False\n",
            "We -PRON- PRON PRP nsubj Xx True True\n",
            "saw see VERB VBD ROOT xxx True False\n",
            "a a DET DT det x True True\n",
            "deer deer NOUN NN dobj xxxx True False\n",
            ", , PUNCT , punct , False False\n",
            "lots lot NOUN NNS dobj xxxx True False\n",
            "of of ADP IN prep xx True True\n",
            "different different ADJ JJ amod xxxx True False\n",
            "birds bird NOUN NNS pobj xxxx True False\n",
            ", , PUNCT , punct , False False\n",
            "and and CCONJ CC cc xxx True True\n",
            "of of ADP IN prep xx True True\n",
            "course course NOUN NN pobj xxxx True False\n",
            "some some DET DT det xxxx True True\n",
            "funny funny ADJ JJ amod xxxx True False\n",
            "squirrles squirrle NOUN NNS conj xxxx True False\n",
            ". . PUNCT . punct . False False\n"
          ],
          "name": "stdout"
        }
      ]
    },
    {
      "cell_type": "code",
      "metadata": {
        "id": "vQazig87Zsaa"
      },
      "source": [
        ""
      ],
      "execution_count": null,
      "outputs": []
    }
  ]
}